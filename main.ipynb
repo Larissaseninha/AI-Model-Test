{
 "cells": [
  {
   "cell_type": "code",
   "execution_count": 2,
   "metadata": {},
   "outputs": [],
   "source": [
    "import pandas as pd\n",
    "import numpy as np\n",
    "import matplotlib.pyplot as plt\n",
    "from pandas import DataFrame as df\n",
    "from scipy.stats import zscore\n",
    "import seaborn as sns\n",
    "import re\n",
    "\n",
    "from ydata_profiling import ProfileReport\n",
    "import sweetviz as sv"
   ]
  },
  {
   "cell_type": "code",
   "execution_count": 6,
   "metadata": {},
   "outputs": [],
   "source": [
    "df = pd.read_csv(\"./data/test.csv\", na_values=[' ', '_', '_______'], low_memory=False)\n",
    "#print(df.dtypes)\n",
    "\n",
    "#df['Annual_Income'] = pd.to_numeric(df['Annual_Income'], errors='coerce')\n",
    "def try_convert(value):\n",
    "    try:\n",
    "        return pd.to_numeric(value)\n",
    "    except ValueError:\n",
    "        try: return pd.to_datetime(value)\n",
    "        except ValueError: return value\n",
    "\n",
    "def clean_ssn(ssn):\n",
    "    if re.match(re.compile(r'^\\d{3}-\\d{2}-\\d{4}$'), ssn): return ssn\n",
    "    else: return pd.NA\n",
    "\n",
    "df['SSN'] = df['SSN'].apply(clean_ssn)\n",
    "df.reset_index(drop=True, inplace=True)\n",
    "# df.reset_index(drop=True, inplace=True)\n",
    "\n",
    "df = df.map(try_convert)\n",
    "df.dropna(inplace=True)\n",
    "df.reset_index(drop=True, inplace=True)\n",
    "\n",
    "print(df)\n",
    "print(df.count)"
   ]
  },
  {
   "cell_type": "code",
   "execution_count": null,
   "metadata": {},
   "outputs": [],
   "source": [
    "plt.figure(figsize=(8,6))\n",
    "plt.xticks(rotation=45)\n",
    "sns.set_theme(style=\"darkgrid\")\n",
    "\n",
    "# sns.histplot(data=df, x='Annual_Income')\n",
    "# plt.show()\n",
    "\n",
    "# sns.histplot(data=df, x='Occupation')\n",
    "# plt.show()\n",
    "\n",
    "sns.boxplot(data=df, x='Num_Bank_Accounts')\n",
    "plt.show()\n",
    "\n",
    "# sns.boxplot(data=df, x='Payment_Behaviour')\n",
    "# plt.show()\n",
    "\n",
    "sns.lmplot(data=df, x='Monthly_Inhand_Salary', y='Annual_Income')\n",
    "plt.show()\n",
    "\n",
    "fig, graph = plt.subplots(nrows=2, ncols=2, figsize=(18, 8))\n",
    "plt.tight_layout()\n",
    "\n",
    "sns.histplot(data=df, x='Num_Bank_Accounts', ax=graph[0][0])\n",
    "sns.boxplot(data=df, x='Annual_Income', ax=graph[0][1])\n",
    "sns.boxplot(data=df, x='Monthly_Inhand_Salary', ax=graph[1][0])\n",
    "# sns.histplot(data=df, x='Occupation', ax=graph[1][1])\n",
    "#sns.lmplot(data=df, x='Altura', y='Peso', )\n",
    "#sns.lmplot(data=df, x='Altura', y='Peso', ax=graph[1][1])\n",
    "plt.show()\n"
   ]
  }
 ],
 "metadata": {
  "kernelspec": {
   "display_name": "Python 3",
   "language": "python",
   "name": "python3"
  },
  "language_info": {
   "codemirror_mode": {
    "name": "ipython",
    "version": 3
   },
   "file_extension": ".py",
   "mimetype": "text/x-python",
   "name": "python",
   "nbconvert_exporter": "python",
   "pygments_lexer": "ipython3",
   "version": "3.11.4"
  }
 },
 "nbformat": 4,
 "nbformat_minor": 2
}
